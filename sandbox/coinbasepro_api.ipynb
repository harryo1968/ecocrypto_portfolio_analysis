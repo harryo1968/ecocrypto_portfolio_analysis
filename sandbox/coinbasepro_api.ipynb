{
 "cells": [
  {
   "cell_type": "code",
   "execution_count": 27,
   "id": "22e7f864-9275-4cbe-b9c3-8826575d5dd3",
   "metadata": {},
   "outputs": [
    {
     "data": {
      "text/plain": [
       "True"
      ]
     },
     "execution_count": 27,
     "metadata": {},
     "output_type": "execute_result"
    }
   ],
   "source": [
    "# First import the libraries that we need to use\n",
    "import pandas as pd\n",
    "import requests\n",
    "import json\n",
    "# from dotenv import load_dotenv\n",
    "# load_dotenv()\n",
    "    "
   ]
  },
  {
   "cell_type": "code",
   "execution_count": 44,
   "id": "83e3a58b-19df-494b-b922-f4cc4140e582",
   "metadata": {},
   "outputs": [
    {
     "data": {
      "text/html": [
       "<div>\n",
       "<style scoped>\n",
       "    .dataframe tbody tr th:only-of-type {\n",
       "        vertical-align: middle;\n",
       "    }\n",
       "\n",
       "    .dataframe tbody tr th {\n",
       "        vertical-align: top;\n",
       "    }\n",
       "\n",
       "    .dataframe thead th {\n",
       "        text-align: right;\n",
       "    }\n",
       "</style>\n",
       "<table border=\"1\" class=\"dataframe\">\n",
       "  <thead>\n",
       "    <tr style=\"text-align: right;\">\n",
       "      <th></th>\n",
       "      <th>id</th>\n",
       "      <th>name</th>\n",
       "      <th>min_size</th>\n",
       "      <th>status</th>\n",
       "      <th>max_precision</th>\n",
       "    </tr>\n",
       "  </thead>\n",
       "  <tbody>\n",
       "    <tr>\n",
       "      <th>0</th>\n",
       "      <td>DOT</td>\n",
       "      <td>Polkadot</td>\n",
       "      <td>0.01</td>\n",
       "      <td>online</td>\n",
       "      <td>0.001</td>\n",
       "    </tr>\n",
       "    <tr>\n",
       "      <th>1</th>\n",
       "      <td>ALGO</td>\n",
       "      <td>Algorand</td>\n",
       "      <td>1</td>\n",
       "      <td>online</td>\n",
       "      <td>0.000001</td>\n",
       "    </tr>\n",
       "    <tr>\n",
       "      <th>2</th>\n",
       "      <td>ATOM</td>\n",
       "      <td>Cosmos</td>\n",
       "      <td>1</td>\n",
       "      <td>online</td>\n",
       "      <td>0.000001</td>\n",
       "    </tr>\n",
       "    <tr>\n",
       "      <th>3</th>\n",
       "      <td>ACH</td>\n",
       "      <td>Alchemy Pay</td>\n",
       "      <td>0.1</td>\n",
       "      <td>online</td>\n",
       "      <td>0.00000001</td>\n",
       "    </tr>\n",
       "    <tr>\n",
       "      <th>4</th>\n",
       "      <td>1INCH</td>\n",
       "      <td>1Inch</td>\n",
       "      <td>0.1</td>\n",
       "      <td>online</td>\n",
       "      <td>0.01</td>\n",
       "    </tr>\n",
       "    <tr>\n",
       "      <th>...</th>\n",
       "      <td>...</td>\n",
       "      <td>...</td>\n",
       "      <td>...</td>\n",
       "      <td>...</td>\n",
       "      <td>...</td>\n",
       "    </tr>\n",
       "    <tr>\n",
       "      <th>173</th>\n",
       "      <td>GODS</td>\n",
       "      <td>Gods Unchained</td>\n",
       "      <td>0.1</td>\n",
       "      <td>online</td>\n",
       "      <td>0.00000001</td>\n",
       "    </tr>\n",
       "    <tr>\n",
       "      <th>174</th>\n",
       "      <td>GTC</td>\n",
       "      <td>Gitcoin</td>\n",
       "      <td>0.1</td>\n",
       "      <td>online</td>\n",
       "      <td>0.01</td>\n",
       "    </tr>\n",
       "    <tr>\n",
       "      <th>175</th>\n",
       "      <td>ICP</td>\n",
       "      <td>Internet Computer</td>\n",
       "      <td>0.01</td>\n",
       "      <td>online</td>\n",
       "      <td>0.001</td>\n",
       "    </tr>\n",
       "    <tr>\n",
       "      <th>176</th>\n",
       "      <td>NU</td>\n",
       "      <td>NuCypher</td>\n",
       "      <td>10</td>\n",
       "      <td>online</td>\n",
       "      <td>0.000001</td>\n",
       "    </tr>\n",
       "    <tr>\n",
       "      <th>177</th>\n",
       "      <td>CLV</td>\n",
       "      <td>Clover Finance</td>\n",
       "      <td>0.1</td>\n",
       "      <td>online</td>\n",
       "      <td>0.00000001</td>\n",
       "    </tr>\n",
       "  </tbody>\n",
       "</table>\n",
       "<p>178 rows × 5 columns</p>\n",
       "</div>"
      ],
      "text/plain": [
       "        id               name min_size  status max_precision\n",
       "0      DOT           Polkadot     0.01  online         0.001\n",
       "1     ALGO           Algorand        1  online      0.000001\n",
       "2     ATOM             Cosmos        1  online      0.000001\n",
       "3      ACH        Alchemy Pay      0.1  online    0.00000001\n",
       "4    1INCH              1Inch      0.1  online          0.01\n",
       "..     ...                ...      ...     ...           ...\n",
       "173   GODS     Gods Unchained      0.1  online    0.00000001\n",
       "174    GTC            Gitcoin      0.1  online          0.01\n",
       "175    ICP  Internet Computer     0.01  online         0.001\n",
       "176     NU           NuCypher       10  online      0.000001\n",
       "177    CLV     Clover Finance      0.1  online    0.00000001\n",
       "\n",
       "[178 rows x 5 columns]"
      ]
     },
     "execution_count": 44,
     "metadata": {},
     "output_type": "execute_result"
    }
   ],
   "source": [
    "# def get_currencies():\n",
    "coin_url = \"https://api.exchange.coinbase.com/currencies\"\n",
    "coin_response = requests.get(coin_url)\n",
    "if coin_response.status_code == 200:\n",
    "    data = pd.DataFrame(json.loads(coin_response.text), columns=['id', 'name', 'min_size', 'status', 'max_precision']).fillna('')\n",
    "    data.to_csv(\"coinbase_currencies.csv\", index=False)\n",
    "data.head(999)"
   ]
  },
  {
   "cell_type": "code",
   "execution_count": 45,
   "id": "25251478-3fe8-4ab9-a3c0-d55fe11261c5",
   "metadata": {},
   "outputs": [
    {
     "name": "stdout",
     "output_type": "stream",
     "text": [
      "Created CSV file: coinbase_dailydata_XRPUSD.csv.\n"
     ]
    }
   ],
   "source": [
    "## Fetch data and save to CSV file\n",
    "\n",
    "def fetch_daily_data(symbol):\n",
    "    pair_split = symbol.split('/')  # symbol must be in format XXX/XXX ie. BTC/EUR\n",
    "    symbol = pair_split[0] + '-' + pair_split[1]\n",
    "    # url = f'https://api.pro.coinbase.com/products/{symbol}/candles?granularity=86400'\n",
    "    url = f'https://api-public.sandbox.exchange.coinbase.com/products/{symbol}/candles?granularity=86400'\n",
    "    \n",
    "    response = requests.get(url)\n",
    "    if response.status_code == 200:\n",
    "        data = pd.DataFrame(json.loads(response.text), columns=['unix', 'low', 'high', 'open', 'close', 'volume'])\n",
    "        data['date'] = pd.to_datetime(data['unix'], unit='s')  # convert to a readable date\n",
    "        data['vol_fiat'] = data['volume'] * data['close'] # multiply the BTC volume by closing price to approximate fiat volume\n",
    "\n",
    "        if data is None:\n",
    "            print(\"Did not return any data from Coinbase for this symbol\")\n",
    "        else:\n",
    "            filename = f'coinbase_dailydata_{pair_split[0] + pair_split[1]}.csv'\n",
    "            data.to_csv(filename, index=False)\n",
    "            print(f'Created CSV file: {filename}.')\n",
    "    else:\n",
    "        print(\"Did not receieve OK response from Coinbase API\")\n",
    "\n",
    "if __name__ == \"__main__\":\n",
    "    pair = \"XRP/USD\"\n",
    "    fetch_daily_data(symbol=pair)\n"
   ]
  },
  {
   "cell_type": "code",
   "execution_count": 48,
   "id": "a7de6da7-bac1-4cbd-9119-2e307d6a1993",
   "metadata": {},
   "outputs": [],
   "source": [
    "## Get product information\n",
    "product_url = \"https://api.exchange.coinbase.com/products\"\n",
    "headers = {\"Accept\": \"application/json\"}\n",
    "product_response = requests.get(product_url, headers=headers)\n",
    "product_columns=[\"id\",\"base_currency\",\"quote_currency\",\"base_min_size\",\"base_max_size\",\"quote_increment\",\"base_increment\",\"display_name\",\"min_market_funds\",\"max_market_funds\",\"margin_enabled\",\"fx_stablecoin\",\"max_slippage_percentage\",\"post_only\",\"limit_only\",\"cancel_only\",\"trading_disabled\",\"status\",\"status_message\",\"auction_mode\"]\n",
    "product_df = pd.DataFrame(json.loads(product_response.text), columns=product_columns)\n",
    "\n",
    "# product_df\n"
   ]
  },
  {
   "cell_type": "code",
   "execution_count": 50,
   "id": "75eed48f-2e13-410e-acb0-51365f9985a6",
   "metadata": {},
   "outputs": [
    {
     "name": "stdout",
     "output_type": "stream",
     "text": [
      "Created CSV file: coinbase_trades_XRPUSD.csv.\n"
     ]
    }
   ],
   "source": [
    "## Get trades for ...\n",
    "\n",
    "def fetch_trade_data(symbol):\n",
    "    pair_split = symbol.split('/')\n",
    "    symbol = pair_split[0] + '-' + pair_split[1]\n",
    "    trades_url = f\"https://api.exchange.coinbase.com/products/{symbol}/trades\"\n",
    "    headers = {\"Accept\": \"application/json\"}\n",
    "    trades_columns = [\"time\",\"trade_id\",\"price\",\"size\",\"side\"]\n",
    "    response = requests.get(trades_url, headers=headers)\n",
    "\n",
    "    if response.status_code == 200:\n",
    "        trades_data = pd.DataFrame(json.loads(response.text), columns=trades_columns)\n",
    "        trades_data['date'] = pd.to_datetime(trades_data['time'])  # convert to a readable date\n",
    "\n",
    "        if trades_data is None:\n",
    "            print(\"Did not return any data from Coinbase for this symbol\")\n",
    "        else:\n",
    "            filename = f'coinbase_trades_{pair_split[0] + pair_split[1]}.csv'\n",
    "            trades_data.to_csv(filename, index=False)\n",
    "            print(f'Created CSV file: {filename}.')\n",
    "    else:\n",
    "        print(\"Did not receieve OK response from Coinbase API\")\n",
    "\n",
    "if __name__ == \"__main__\":\n",
    "    pair = \"XRP/USD\"\n",
    "    fetch_trade_data(symbol=pair)\n"
   ]
  },
  {
   "cell_type": "code",
   "execution_count": null,
   "id": "a999ce0f-2fcc-4f60-b520-4441ca97c68f",
   "metadata": {},
   "outputs": [],
   "source": []
  }
 ],
 "metadata": {
  "kernelspec": {
   "display_name": "dev",
   "language": "python",
   "name": "dev"
  },
  "language_info": {
   "codemirror_mode": {
    "name": "ipython",
    "version": 3
   },
   "file_extension": ".py",
   "mimetype": "text/x-python",
   "name": "python",
   "nbconvert_exporter": "python",
   "pygments_lexer": "ipython3",
   "version": "3.7.11"
  }
 },
 "nbformat": 4,
 "nbformat_minor": 5
}
