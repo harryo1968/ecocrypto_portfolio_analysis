{
 "cells": [
  {
   "cell_type": "code",
   "execution_count": 45,
   "id": "22e7f864-9275-4cbe-b9c3-8826575d5dd3",
   "metadata": {},
   "outputs": [
    {
     "name": "stdout",
     "output_type": "stream",
     "text": [
      "https://api-pro.coinbase.com\n",
      "https://api.exchange.coinbase.com\n",
      "https://api-public.sandbox.exchange.coinbase.com\n"
     ]
    }
   ],
   "source": [
    "# First import the libraries that we need to use\n",
    "import os\n",
    "import pandas as pd\n",
    "from datetime import datetime\n",
    "import requests\n",
    "import json\n",
    "from utils.coinbase import fetch_product_trades\n",
    "from dotenv import load_dotenv\n",
    "load_dotenv()\n",
    "\n",
    "cb_pro = os.getenv(\"COINBASE_PRO_FQDN\")\n",
    "cb_pub = os.getenv(\"COINBASE_PUB_FQDN\")\n",
    "cb_sandbox = os.getenv(\"COINBASE_SANDBOX_FQDN\")\n",
    "\n",
    "print(cb_pro)\n",
    "print(cb_pub) # used for most calls\n",
    "print(cb_sandbox)\n"
   ]
  },
  {
   "cell_type": "code",
   "execution_count": 46,
   "id": "83e3a58b-19df-494b-b922-f4cc4140e582",
   "metadata": {},
   "outputs": [
    {
     "name": "stdout",
     "output_type": "stream",
     "text": [
      "Created CSV file: data/coinbase_currencies.csv\n"
     ]
    }
   ],
   "source": [
    "def get_currencies():\n",
    "    \"\"\"\n",
    "    Returns DataFrame of currencies available on coinbase exchange.\n",
    "    \n",
    "    \"\"\"\n",
    "    coin_url = f\"{cb_pub}/currencies\"\n",
    "    coin_response = requests.get(coin_url)\n",
    "    if coin_response.status_code == 200:\n",
    "        filename = \"data/coinbase_currencies.csv\"\n",
    "        currencies_df = pd.DataFrame(json.loads(coin_response.text), columns=['id', 'name', 'min_size', 'status', 'max_precision']).fillna('')\n",
    "        currencies_df.to_csv(filename, index=False)\n",
    "        print(f\"Created CSV file: {filename}\")\n",
    "    else:\n",
    "        print(f\"Did not receive 200 response\")\n",
    " \n",
    "    return currencies_df\n",
    "\n",
    "currencies_df = get_currencies()\n"
   ]
  },
  {
   "cell_type": "code",
   "execution_count": 47,
   "id": "745f036f-b098-4b8b-a5c0-228824578d57",
   "metadata": {},
   "outputs": [
    {
     "data": {
      "text/html": [
       "<div>\n",
       "<style scoped>\n",
       "    .dataframe tbody tr th:only-of-type {\n",
       "        vertical-align: middle;\n",
       "    }\n",
       "\n",
       "    .dataframe tbody tr th {\n",
       "        vertical-align: top;\n",
       "    }\n",
       "\n",
       "    .dataframe thead th {\n",
       "        text-align: right;\n",
       "    }\n",
       "</style>\n",
       "<table border=\"1\" class=\"dataframe\">\n",
       "  <thead>\n",
       "    <tr style=\"text-align: right;\">\n",
       "      <th></th>\n",
       "      <th>id</th>\n",
       "      <th>name</th>\n",
       "      <th>min_size</th>\n",
       "      <th>status</th>\n",
       "      <th>max_precision</th>\n",
       "    </tr>\n",
       "  </thead>\n",
       "  <tbody>\n",
       "    <tr>\n",
       "      <th>0</th>\n",
       "      <td>RLC</td>\n",
       "      <td>iExec RLC</td>\n",
       "      <td>0.1</td>\n",
       "      <td>online</td>\n",
       "      <td>0.01</td>\n",
       "    </tr>\n",
       "    <tr>\n",
       "      <th>1</th>\n",
       "      <td>GODS</td>\n",
       "      <td>Gods Unchained</td>\n",
       "      <td>0.1</td>\n",
       "      <td>online</td>\n",
       "      <td>0.00000001</td>\n",
       "    </tr>\n",
       "    <tr>\n",
       "      <th>2</th>\n",
       "      <td>BAT</td>\n",
       "      <td>Basic Attention Token</td>\n",
       "      <td>1</td>\n",
       "      <td>online</td>\n",
       "      <td>0.00000001</td>\n",
       "    </tr>\n",
       "    <tr>\n",
       "      <th>3</th>\n",
       "      <td>BTC</td>\n",
       "      <td>Bitcoin</td>\n",
       "      <td>0.00000001</td>\n",
       "      <td>online</td>\n",
       "      <td>0.00000001</td>\n",
       "    </tr>\n",
       "    <tr>\n",
       "      <th>4</th>\n",
       "      <td>ICP</td>\n",
       "      <td>Internet Computer</td>\n",
       "      <td>0.01</td>\n",
       "      <td>online</td>\n",
       "      <td>0.001</td>\n",
       "    </tr>\n",
       "    <tr>\n",
       "      <th>...</th>\n",
       "      <td>...</td>\n",
       "      <td>...</td>\n",
       "      <td>...</td>\n",
       "      <td>...</td>\n",
       "      <td>...</td>\n",
       "    </tr>\n",
       "    <tr>\n",
       "      <th>173</th>\n",
       "      <td>MLN</td>\n",
       "      <td>Enzyme</td>\n",
       "      <td>0.01</td>\n",
       "      <td>online</td>\n",
       "      <td>0.001</td>\n",
       "    </tr>\n",
       "    <tr>\n",
       "      <th>174</th>\n",
       "      <td>UMA</td>\n",
       "      <td>UMA</td>\n",
       "      <td>0.01</td>\n",
       "      <td>online</td>\n",
       "      <td>0.001</td>\n",
       "    </tr>\n",
       "    <tr>\n",
       "      <th>175</th>\n",
       "      <td>BTRST</td>\n",
       "      <td>Braintrust</td>\n",
       "      <td>1</td>\n",
       "      <td>online</td>\n",
       "      <td>0.01</td>\n",
       "    </tr>\n",
       "    <tr>\n",
       "      <th>176</th>\n",
       "      <td>LCX</td>\n",
       "      <td>LCX Token</td>\n",
       "      <td>0.1</td>\n",
       "      <td>online</td>\n",
       "      <td>0.0001</td>\n",
       "    </tr>\n",
       "    <tr>\n",
       "      <th>177</th>\n",
       "      <td>CRPT</td>\n",
       "      <td>Crypterium</td>\n",
       "      <td>0.00000001</td>\n",
       "      <td>online</td>\n",
       "      <td>0.00000001</td>\n",
       "    </tr>\n",
       "  </tbody>\n",
       "</table>\n",
       "<p>178 rows × 5 columns</p>\n",
       "</div>"
      ],
      "text/plain": [
       "        id                   name    min_size  status max_precision\n",
       "0      RLC              iExec RLC         0.1  online          0.01\n",
       "1     GODS         Gods Unchained         0.1  online    0.00000001\n",
       "2      BAT  Basic Attention Token           1  online    0.00000001\n",
       "3      BTC                Bitcoin  0.00000001  online    0.00000001\n",
       "4      ICP      Internet Computer        0.01  online         0.001\n",
       "..     ...                    ...         ...     ...           ...\n",
       "173    MLN                 Enzyme        0.01  online         0.001\n",
       "174    UMA                    UMA        0.01  online         0.001\n",
       "175  BTRST             Braintrust           1  online          0.01\n",
       "176    LCX              LCX Token         0.1  online        0.0001\n",
       "177   CRPT             Crypterium  0.00000001  online    0.00000001\n",
       "\n",
       "[178 rows x 5 columns]"
      ]
     },
     "execution_count": 47,
     "metadata": {},
     "output_type": "execute_result"
    }
   ],
   "source": [
    "currencies_df"
   ]
  },
  {
   "cell_type": "code",
   "execution_count": 48,
   "id": "31006998-bcbe-45b7-beb4-077b776262f2",
   "metadata": {},
   "outputs": [],
   "source": [
    "# import requests\n",
    "# url = \"https://api.exchange.coinbase.com/products\"\n",
    "# headers = {\"Accept\": \"application/json\"}\n",
    "# response = requests.get(url, headers=headers)\n",
    "# # print(response.text)"
   ]
  },
  {
   "cell_type": "code",
   "execution_count": 49,
   "id": "86333603-40be-43af-b15c-7b7e2a2a8c33",
   "metadata": {},
   "outputs": [
    {
     "name": "stdout",
     "output_type": "stream",
     "text": [
      "Created CSV file: data/coinbase_products.csv\n"
     ]
    }
   ],
   "source": [
    "## Get full list of Products and information\n",
    "def get_products():\n",
    "    \"\"\"\n",
    "    Returns a listing of data products that are available\n",
    "\n",
    "    \"\"\"\n",
    "    product_url = f\"{cb_pub}/products\"\n",
    "    headers = {\"Accept\": \"application/json\"}\n",
    "    product_response = requests.get(product_url, headers=headers)\n",
    "    product_columns=[\"id\",\"base_currency\",\"quote_currency\",\"base_min_size\",\"base_max_size\",\"quote_increment\",\"base_increment\",\"display_name\",\"min_market_funds\",\"max_market_funds\",\"margin_enabled\",\"fx_stablecoin\",\"max_slippage_percentage\",\"post_only\",\"limit_only\",\"cancel_only\",\"trading_disabled\",\"status\",\"status_message\",\"auction_mode\"]\n",
    "    # if product_response.status.code == 200:\n",
    "    filename = \"data/coinbase_products.csv\"\n",
    "    products_df = pd.DataFrame(json.loads(product_response.text), columns=product_columns).filter(items=['id','base_currency','quote_currency','status'])\n",
    "    ## Filter our delisted currency products\n",
    "    products_df = products_df[~products_df['status'].isin(['delisted'])]\n",
    "    products_df = products_df.drop(columns=[\"status\"])\n",
    "    ## Save a local copy\n",
    "    products_df.to_csv(filename, index=False)\n",
    "    print(f\"Created CSV file: {filename}\")\n",
    "    # print(product_response.text)\n",
    "    # else:\n",
    "    # print(f\"Did not receive 200 response\")\n",
    "\n",
    "    return products_df\n",
    "\n",
    "products_online_df = get_products()\n"
   ]
  },
  {
   "cell_type": "code",
   "execution_count": 50,
   "id": "874be102-7a53-4ebb-8361-95dbc41fdb6f",
   "metadata": {},
   "outputs": [
    {
     "data": {
      "text/html": [
       "<div>\n",
       "<style scoped>\n",
       "    .dataframe tbody tr th:only-of-type {\n",
       "        vertical-align: middle;\n",
       "    }\n",
       "\n",
       "    .dataframe tbody tr th {\n",
       "        vertical-align: top;\n",
       "    }\n",
       "\n",
       "    .dataframe thead th {\n",
       "        text-align: right;\n",
       "    }\n",
       "</style>\n",
       "<table border=\"1\" class=\"dataframe\">\n",
       "  <thead>\n",
       "    <tr style=\"text-align: right;\">\n",
       "      <th></th>\n",
       "      <th>id</th>\n",
       "      <th>base_currency</th>\n",
       "      <th>quote_currency</th>\n",
       "    </tr>\n",
       "  </thead>\n",
       "  <tbody>\n",
       "    <tr>\n",
       "      <th>0</th>\n",
       "      <td>MIR-EUR</td>\n",
       "      <td>MIR</td>\n",
       "      <td>EUR</td>\n",
       "    </tr>\n",
       "    <tr>\n",
       "      <th>1</th>\n",
       "      <td>WBTC-USD</td>\n",
       "      <td>WBTC</td>\n",
       "      <td>USD</td>\n",
       "    </tr>\n",
       "    <tr>\n",
       "      <th>2</th>\n",
       "      <td>POWR-USDT</td>\n",
       "      <td>POWR</td>\n",
       "      <td>USDT</td>\n",
       "    </tr>\n",
       "    <tr>\n",
       "      <th>3</th>\n",
       "      <td>USDT-GBP</td>\n",
       "      <td>USDT</td>\n",
       "      <td>GBP</td>\n",
       "    </tr>\n",
       "    <tr>\n",
       "      <th>4</th>\n",
       "      <td>GYEN-USD</td>\n",
       "      <td>GYEN</td>\n",
       "      <td>USD</td>\n",
       "    </tr>\n",
       "  </tbody>\n",
       "</table>\n",
       "</div>"
      ],
      "text/plain": [
       "          id base_currency quote_currency\n",
       "0    MIR-EUR           MIR            EUR\n",
       "1   WBTC-USD          WBTC            USD\n",
       "2  POWR-USDT          POWR           USDT\n",
       "3   USDT-GBP          USDT            GBP\n",
       "4   GYEN-USD          GYEN            USD"
      ]
     },
     "execution_count": 50,
     "metadata": {},
     "output_type": "execute_result"
    }
   ],
   "source": [
    "# Show products that are online and available\n",
    "products_online_df.head()"
   ]
  },
  {
   "cell_type": "code",
   "execution_count": 51,
   "id": "16dec5c9-4308-4641-89f6-5ab070adcb1b",
   "metadata": {},
   "outputs": [
    {
     "data": {
      "text/html": [
       "<div>\n",
       "<style scoped>\n",
       "    .dataframe tbody tr th:only-of-type {\n",
       "        vertical-align: middle;\n",
       "    }\n",
       "\n",
       "    .dataframe tbody tr th {\n",
       "        vertical-align: top;\n",
       "    }\n",
       "\n",
       "    .dataframe thead th {\n",
       "        text-align: right;\n",
       "    }\n",
       "</style>\n",
       "<table border=\"1\" class=\"dataframe\">\n",
       "  <thead>\n",
       "    <tr style=\"text-align: right;\">\n",
       "      <th></th>\n",
       "      <th>id</th>\n",
       "      <th>base_currency</th>\n",
       "    </tr>\n",
       "  </thead>\n",
       "  <tbody>\n",
       "    <tr>\n",
       "      <th>1</th>\n",
       "      <td>WBTC-USD</td>\n",
       "      <td>WBTC</td>\n",
       "    </tr>\n",
       "    <tr>\n",
       "      <th>4</th>\n",
       "      <td>GYEN-USD</td>\n",
       "      <td>GYEN</td>\n",
       "    </tr>\n",
       "    <tr>\n",
       "      <th>7</th>\n",
       "      <td>OGN-USD</td>\n",
       "      <td>OGN</td>\n",
       "    </tr>\n",
       "    <tr>\n",
       "      <th>8</th>\n",
       "      <td>SPELL-USD</td>\n",
       "      <td>SPELL</td>\n",
       "    </tr>\n",
       "    <tr>\n",
       "      <th>10</th>\n",
       "      <td>STORJ-USD</td>\n",
       "      <td>STORJ</td>\n",
       "    </tr>\n",
       "    <tr>\n",
       "      <th>...</th>\n",
       "      <td>...</td>\n",
       "      <td>...</td>\n",
       "    </tr>\n",
       "    <tr>\n",
       "      <th>449</th>\n",
       "      <td>NCT-USD</td>\n",
       "      <td>NCT</td>\n",
       "    </tr>\n",
       "    <tr>\n",
       "      <th>454</th>\n",
       "      <td>IDEX-USD</td>\n",
       "      <td>IDEX</td>\n",
       "    </tr>\n",
       "    <tr>\n",
       "      <th>455</th>\n",
       "      <td>FORTH-USD</td>\n",
       "      <td>FORTH</td>\n",
       "    </tr>\n",
       "    <tr>\n",
       "      <th>460</th>\n",
       "      <td>ANKR-USD</td>\n",
       "      <td>ANKR</td>\n",
       "    </tr>\n",
       "    <tr>\n",
       "      <th>461</th>\n",
       "      <td>CVC-USD</td>\n",
       "      <td>CVC</td>\n",
       "    </tr>\n",
       "  </tbody>\n",
       "</table>\n",
       "<p>171 rows × 2 columns</p>\n",
       "</div>"
      ],
      "text/plain": [
       "            id base_currency\n",
       "1     WBTC-USD          WBTC\n",
       "4     GYEN-USD          GYEN\n",
       "7      OGN-USD           OGN\n",
       "8    SPELL-USD         SPELL\n",
       "10   STORJ-USD         STORJ\n",
       "..         ...           ...\n",
       "449    NCT-USD           NCT\n",
       "454   IDEX-USD          IDEX\n",
       "455  FORTH-USD         FORTH\n",
       "460   ANKR-USD          ANKR\n",
       "461    CVC-USD           CVC\n",
       "\n",
       "[171 rows x 2 columns]"
      ]
     },
     "execution_count": 51,
     "metadata": {},
     "output_type": "execute_result"
    }
   ],
   "source": [
    "# Show products that are USD\n",
    "usd_products_df = products_online_df.loc[(products_online_df['quote_currency'] == 'USD')].copy().drop(columns=[\"quote_currency\"])\n",
    "usd_products_df"
   ]
  },
  {
   "cell_type": "code",
   "execution_count": 52,
   "id": "a2ddae18-3eb1-4c02-a866-06f4637e293f",
   "metadata": {},
   "outputs": [],
   "source": [
    "# NOTE:  We should probably reindex `usd_products_df` here"
   ]
  },
  {
   "cell_type": "code",
   "execution_count": 53,
   "id": "75eed48f-2e13-410e-acb0-51365f9985a6",
   "metadata": {},
   "outputs": [
    {
     "name": "stdout",
     "output_type": "stream",
     "text": [
      "Created CSV file: data/coinbase_ALCX-USD_trades_2022-05-14.csv.\n",
      "Created CSV file: data/coinbase_CRV-USD_trades_2022-05-14.csv.\n",
      "Created CSV file: data/coinbase_ENJ-USD_trades_2022-05-14.csv.\n",
      "Created CSV file: data/coinbase_GYEN-USD_trades_2022-05-14.csv.\n",
      "Created CSV file: data/coinbase_OGN-USD_trades_2022-05-14.csv.\n",
      "Created CSV file: data/coinbase_PAX-USD_trades_2022-05-14.csv.\n",
      "Created CSV file: data/coinbase_SPELL-USD_trades_2022-05-14.csv.\n",
      "Created CSV file: data/coinbase_STORJ-USD_trades_2022-05-14.csv.\n",
      "Created CSV file: data/coinbase_WBTC-USD_trades_2022-05-14.csv.\n",
      "Created CSV file: data/coinbase_ZEN-USD_trades_2022-05-14.csv.\n"
     ]
    }
   ],
   "source": [
    "\n",
    "def fetch_product_trades(product):\n",
    "    trades_url = f\"{cb_pub}/products/{product}/trades?limit=1000\"\n",
    "    headers = {\"Accept\": \"application/json\"}\n",
    "    trades_columns = [\"time\",\"trade_id\",\"price\",\"size\",\"side\"]\n",
    "    response = requests.get(trades_url, headers=headers)\n",
    "\n",
    "    if response.status_code == 200:\n",
    "        trades_df = pd.DataFrame(json.loads(response.text), columns=trades_columns)\n",
    "        trades_df['date'] = pd.to_datetime(trades_df['time'])  # convert to a readable date\n",
    "        today = datetime.today().strftime('%Y-%m-%d')\n",
    "\n",
    "        if trades_df is None:\n",
    "            print(\"Did not return any data from Coinbase for this symbol\")\n",
    "        else:\n",
    "            filename = f'data/coinbase_{product}_trades_{today}.csv'\n",
    "            trades_df.to_csv(filename, index=False)\n",
    "            print(f'Created CSV file: {filename}.')\n",
    "    else:\n",
    "        print(\"Did not receieve OK response from Coinbase API\")\n",
    "        print(response.text)\n",
    "        \n",
    "    return\n",
    "\n",
    "\n",
    "top_stonks = usd_products_df.head(10).sort_values(by=['id'])\n",
    "\n",
    "\n",
    "for coins in top_stonks['id']:\n",
    "    fetch_product_trades(coins)\n",
    "    "
   ]
  },
  {
   "cell_type": "code",
   "execution_count": 54,
   "id": "e1b12957-0c1a-4df5-898a-07a52c9e947c",
   "metadata": {},
   "outputs": [
    {
     "data": {
      "text/plain": [
       "{'ask': '0.5265',\n",
       " 'bid': '0.5263',\n",
       " 'volume': '91107400.35',\n",
       " 'trade_id': 70896849,\n",
       " 'price': '0.5263',\n",
       " 'size': '453.16',\n",
       " 'time': '2022-05-14T22:25:36.802688Z'}"
      ]
     },
     "execution_count": 54,
     "metadata": {},
     "output_type": "execute_result"
    }
   ],
   "source": [
    "# Fetch product ticker into dict()\n",
    "def fetch_product_ticker(product):\n",
    "    ticker_url = f\"{cb_pub}/products/{product}/ticker\"\n",
    "    headers = {\"Accept\": \"application/json\"}\n",
    "    response = requests.get(ticker_url, headers=headers)\n",
    "\n",
    "    if response.status_code == 200:\n",
    "        return dict(json.loads(response.text))\n",
    "    else:\n",
    "        print(\"Did not receieve OK response from Coinbase API\")\n",
    "       \n",
    "    return\n",
    "\n",
    "ada_usd_ticker_dict = fetch_product_ticker('ADA-USD')\n",
    "ada_usd_ticker_dict"
   ]
  },
  {
   "cell_type": "code",
   "execution_count": 55,
   "id": "5bb7988f-4ae6-44d4-9e22-180a7784b5cc",
   "metadata": {},
   "outputs": [
    {
     "data": {
      "text/plain": [
       "{'open': '0.5394',\n",
       " 'high': '0.5565',\n",
       " 'low': '0.4879',\n",
       " 'last': '0.528',\n",
       " 'volume': '91104508.81',\n",
       " 'volume_30day': '2544775970.7'}"
      ]
     },
     "execution_count": 55,
     "metadata": {},
     "output_type": "execute_result"
    }
   ],
   "source": [
    "# Get a specific product stats\n",
    "def fetch_product_stats(product):\n",
    "    stats_url = f\"{cb_pub}/products/{product}/stats\"\n",
    "    headers = {\"Accept\": \"application/json\"}\n",
    "    response = requests.get(stats_url, headers=headers)\n",
    "\n",
    "    if response.status_code == 200:\n",
    "        return dict(json.loads(response.text))\n",
    "    else:\n",
    "        print(\"Did not receieve OK response from Coinbase API\")\n",
    "    return\n",
    "\n",
    "\n",
    "ada_usd_stats_dict = fetch_product_stats('ADA-USD')\n",
    "ada_usd_stats_dict"
   ]
  },
  {
   "cell_type": "code",
   "execution_count": 56,
   "id": "40e1e513-5425-4ffc-ac28-704fd62f9ec6",
   "metadata": {},
   "outputs": [
    {
     "data": {
      "text/plain": [
       "{'open': '28585.22',\n",
       " 'high': '28724.69',\n",
       " 'low': '27487.33',\n",
       " 'last': '28487.28',\n",
       " 'volume': '1347.51787357',\n",
       " 'volume_30day': '44529.81255923'}"
      ]
     },
     "execution_count": 56,
     "metadata": {},
     "output_type": "execute_result"
    }
   ],
   "source": [
    "fetch_product_stats('BTC-EUR')"
   ]
  },
  {
   "cell_type": "code",
   "execution_count": 57,
   "id": "467318c1-207f-4492-adc4-2d226e3912a6",
   "metadata": {},
   "outputs": [
    {
     "data": {
      "text/plain": [
       "{'ask': '28442.2',\n",
       " 'bid': '28441.69',\n",
       " 'volume': '1347.65899373',\n",
       " 'trade_id': 65350210,\n",
       " 'price': '28446.21',\n",
       " 'size': '0.0576',\n",
       " 'time': '2022-05-14T22:25:44.627034Z'}"
      ]
     },
     "execution_count": 57,
     "metadata": {},
     "output_type": "execute_result"
    }
   ],
   "source": [
    "fetch_product_ticker('BTC-EUR')"
   ]
  },
  {
   "cell_type": "code",
   "execution_count": 58,
   "id": "eb53126f-3b23-4b53-8ae3-2f01693ee59f",
   "metadata": {},
   "outputs": [
    {
     "name": "stdout",
     "output_type": "stream",
     "text": [
      "Created CSV file: data/coinbase_ALCX-USD_candles_10_month_2022-05-14.csv.\n",
      "Created CSV file: data/coinbase_CRV-USD_candles_10_month_2022-05-14.csv.\n",
      "Created CSV file: data/coinbase_ENJ-USD_candles_10_month_2022-05-14.csv.\n",
      "Created CSV file: data/coinbase_GYEN-USD_candles_10_month_2022-05-14.csv.\n",
      "Created CSV file: data/coinbase_OGN-USD_candles_10_month_2022-05-14.csv.\n",
      "Created CSV file: data/coinbase_PAX-USD_candles_10_month_2022-05-14.csv.\n",
      "Created CSV file: data/coinbase_SPELL-USD_candles_10_month_2022-05-14.csv.\n",
      "Created CSV file: data/coinbase_STORJ-USD_candles_10_month_2022-05-14.csv.\n",
      "Created CSV file: data/coinbase_WBTC-USD_candles_10_month_2022-05-14.csv.\n",
      "Created CSV file: data/coinbase_ZEN-USD_candles_10_month_2022-05-14.csv.\n"
     ]
    }
   ],
   "source": [
    "## Fetch daily candle data and save to CSV file\n",
    "\n",
    "def fetch_product_candles(product):\n",
    "    url = f'{cb_pub}/products/{product}/candles?granularity=86400' ## &start={candle_start}&end={candle_end}'\n",
    "    response = requests.get(url)\n",
    "    if response.status_code == 200:\n",
    "        data = pd.DataFrame(json.loads(response.text), columns=['unix', 'low', 'high', 'open', 'close', 'volume'])\n",
    "        data['date'] = pd.to_datetime(data['unix'], unit='s')  # convert to a readable date\n",
    "        data['vol_fiat'] = data['volume'] * data['close'] # multiply the BTC volume by closing price to approximate fiat volume\n",
    "        today = datetime.today().strftime('%Y-%m-%d')\n",
    "\n",
    "        if data is None:\n",
    "            print(\"Did not return any data from Coinbase for this symbol\")\n",
    "        else:\n",
    "            filename = f'data/coinbase_{product}_candles_10_month_{today}.csv'\n",
    "            data.to_csv(filename, index=False)\n",
    "            print(f'Created CSV file: {filename}.')\n",
    "    else:\n",
    "        print(\"Did not receieve OK response from Coinbase API\")\n",
    "\n",
    "for coins in top_stonks['id']:\n",
    "    fetch_product_candles(coins)"
   ]
  },
  {
   "cell_type": "code",
   "execution_count": null,
   "id": "c21717af-3c37-4be8-9eda-47f07ed86983",
   "metadata": {},
   "outputs": [],
   "source": []
  }
 ],
 "metadata": {
  "kernelspec": {
   "display_name": "dev",
   "language": "python",
   "name": "dev"
  },
  "language_info": {
   "codemirror_mode": {
    "name": "ipython",
    "version": 3
   },
   "file_extension": ".py",
   "mimetype": "text/x-python",
   "name": "python",
   "nbconvert_exporter": "python",
   "pygments_lexer": "ipython3",
   "version": "3.7.11"
  }
 },
 "nbformat": 4,
 "nbformat_minor": 5
}
