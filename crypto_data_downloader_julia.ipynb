{
 "cells": [
  {
   "cell_type": "markdown",
   "id": "5e475fac-024e-4190-8d29-d0eff10c1317",
   "metadata": {},
   "source": [
    "# This is awesome!"
   ]
  },
  {
   "cell_type": "code",
   "execution_count": 4,
   "id": "7d0da2ba-bc0c-4c6e-bd3b-b79f39e82a7e",
   "metadata": {},
   "outputs": [],
   "source": [
    "from utils.crypto_data_downloader import *"
   ]
  },
  {
   "cell_type": "code",
   "execution_count": 5,
   "id": "1a99739b-c32e-41dd-9c3a-5a28b6bd31ff",
   "metadata": {},
   "outputs": [
    {
     "data": {
      "text/html": [
       "<a download=\"data.csv\" href=\"data:text/csv;base64,LENvbCAxLENvbCAyCjAsMSwyCjEsMyw0Cg==\" target=\"_blank\">Download CSV file</a>"
      ],
      "text/plain": [
       "<IPython.core.display.HTML object>"
      ]
     },
     "execution_count": 5,
     "metadata": {},
     "output_type": "execute_result"
    }
   ],
   "source": [
    "df = pd.DataFrame(data = [[1,2],[3,4]], columns=['Col 1', 'Col 2'])\n",
    "download_link(df)"
   ]
  },
  {
   "cell_type": "code",
   "execution_count": null,
   "id": "43d2110f-3a2d-438e-8a96-52a4e650f281",
   "metadata": {},
   "outputs": [],
   "source": []
  }
 ],
 "metadata": {
  "kernelspec": {
   "display_name": "Python 3 (ipykernel)",
   "language": "python",
   "name": "python3"
  },
  "language_info": {
   "codemirror_mode": {
    "name": "ipython",
    "version": 3
   },
   "file_extension": ".py",
   "mimetype": "text/x-python",
   "name": "python",
   "nbconvert_exporter": "python",
   "pygments_lexer": "ipython3",
   "version": "3.9.7"
  }
 },
 "nbformat": 4,
 "nbformat_minor": 5
}
