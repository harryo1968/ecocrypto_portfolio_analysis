{
 "cells": [
  {
   "cell_type": "markdown",
   "id": "29e1e9a2-4982-4b9b-9c80-78a0db9e7429",
   "metadata": {},
   "source": [
    "# Top 20 Coins using PoW, PoS and Hybrid Consensus Protocols\n",
    "\n",
    "WIP! \n",
    "---\n"
   ]
  },
  {
   "cell_type": "code",
   "execution_count": 5,
   "id": "22e7f864-9275-4cbe-b9c3-8826575d5dd3",
   "metadata": {},
   "outputs": [
    {
     "data": {
      "text/plain": [
       "True"
      ]
     },
     "execution_count": 5,
     "metadata": {},
     "output_type": "execute_result"
    }
   ],
   "source": [
    "# First import the libraries that we need to use\n",
    "import os\n",
    "import pandas as pd\n",
    "import numpy as np\n",
    "import time\n",
    "import warnings\n",
    "import hvplot.pandas\n",
    "import holoviews as hv\n",
    "import panel as pn\n",
    "from pathlib import Path\n",
    "from datetime import datetime, timedelta\n",
    "from bokeh.models.formatters import DatetimeTickFormatter, NumeralTickFormatter\n",
    "from utils.coinbase import *\n",
    "from dotenv import load_dotenv\n",
    "\n",
    "load_dotenv()\n",
    "# !nvidia-smi\n"
   ]
  },
  {
   "cell_type": "markdown",
   "id": "8a1a09a1-d5d5-48d2-9ebd-26d07bd2d0e8",
   "metadata": {},
   "source": [
    "### Retrieve Metadata\n",
    "\n",
    "Pull csv data for EPA into dataframe and review."
   ]
  },
  {
   "cell_type": "code",
   "execution_count": 4,
   "id": "31006998-bcbe-45b7-beb4-077b776262f2",
   "metadata": {},
   "outputs": [],
   "source": [
    "# your code here"
   ]
  },
  {
   "cell_type": "code",
   "execution_count": null,
   "id": "074e95af-a49b-47c4-971c-be0eed9a195e",
   "metadata": {},
   "outputs": [],
   "source": []
  }
 ],
 "metadata": {
  "kernelspec": {
   "display_name": "Python 3 (ipykernel)",
   "language": "python",
   "name": "python3"
  },
  "language_info": {
   "codemirror_mode": {
    "name": "ipython",
    "version": 3
   },
   "file_extension": ".py",
   "mimetype": "text/x-python",
   "name": "python",
   "nbconvert_exporter": "python",
   "pygments_lexer": "ipython3",
   "version": "3.9.7"
  }
 },
 "nbformat": 4,
 "nbformat_minor": 5
}
